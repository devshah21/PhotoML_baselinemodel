{
  "nbformat": 4,
  "nbformat_minor": 0,
  "metadata": {
    "colab": {
      "provenance": [],
      "authorship_tag": "ABX9TyOmMsyvN3oVsPiecqaYSoWS",
      "include_colab_link": true
    },
    "kernelspec": {
      "name": "python3",
      "display_name": "Python 3"
    },
    "language_info": {
      "name": "python"
    }
  },
  "cells": [
    {
      "cell_type": "markdown",
      "metadata": {
        "id": "view-in-github",
        "colab_type": "text"
      },
      "source": [
        "<a href=\"https://colab.research.google.com/github/devshah21/PhotoML_baselinemodel/blob/main/baseline_model.ipynb\" target=\"_parent\"><img src=\"https://colab.research.google.com/assets/colab-badge.svg\" alt=\"Open In Colab\"/></a>"
      ]
    },
    {
      "cell_type": "code",
      "execution_count": 1,
      "metadata": {
        "colab": {
          "base_uri": "https://localhost:8080/"
        },
        "id": "fGhyel1-rBRl",
        "outputId": "6cfe2da8-ac3e-4c5f-9f44-bee1401b5e6b"
      },
      "outputs": [
        {
          "output_type": "stream",
          "name": "stdout",
          "text": [
            "Mounted at /content/drive\n"
          ]
        }
      ],
      "source": [
        "from google.colab import drive\n",
        "drive.mount('/content/drive')\n"
      ]
    },
    {
      "cell_type": "code",
      "source": [
        "data_dir = '/content/drive/MyDrive/Dana_1'"
      ],
      "metadata": {
        "id": "ArAFk8uJrZsF"
      },
      "execution_count": 2,
      "outputs": []
    },
    {
      "cell_type": "code",
      "source": [
        "import os\n",
        "import random\n",
        "import numpy as np\n",
        "import torch\n",
        "import torch.nn as nn\n",
        "import torchvision\n",
        "from torchvision import transforms\n",
        "from sklearn.cluster import KMeans\n",
        "\n",
        "\n",
        "# Set random seed for reproducibility\n",
        "torch.manual_seed(42)\n",
        "np.random.seed(42)\n",
        "random.seed(42)\n",
        "\n",
        "\n",
        "# Define image transformations\n",
        "transform = transforms.Compose([\n",
        "    transforms.Resize(256),\n",
        "    transforms.CenterCrop(224),\n",
        "    transforms.ToTensor(),\n",
        "    transforms.Normalize(mean=[0.485, 0.456, 0.406], std=[0.229, 0.224, 0.225])\n",
        "])\n",
        "\n",
        "\n",
        "# Define function to cluster images\n",
        "def cluster_images(image_folder, n_clusters):\n",
        "    dataset = torchvision.datasets.ImageFolder(root=image_folder, transform=transform)\n",
        "    dataloader = torch.utils.data.DataLoader(dataset, batch_size=16, shuffle=False, num_workers=2)\n",
        "    \n",
        "    features = []\n",
        "    for images, _ in dataloader:\n",
        "        with torch.no_grad():\n",
        "            features.append(model(images.to(device)).detach().cpu().numpy())\n",
        "    \n",
        "    features = np.concatenate(features)\n",
        "    \n",
        "    kmeans = KMeans(n_clusters=n_clusters, random_state=42)\n",
        "    labels = kmeans.fit_predict(features)\n",
        "    \n",
        "    return labels\n",
        "    \n",
        "\n",
        "# Define function to label a subset of images from each cluster\n",
        "def label_images(image_folder, labels, n_labeled):\n",
        "    labeled_indices = []\n",
        "    \n",
        "    for label in np.unique(labels):\n",
        "        indices = np.where(labels == label)[0]\n",
        "        if len(indices) > n_labeled:\n",
        "            labeled_indices.extend(list(np.random.choice(indices, n_labeled, replace=False)))\n",
        "        else:\n",
        "            labeled_indices.extend(list(indices))\n",
        "    \n",
        "    labeled_images = []\n",
        "    for index in labeled_indices:\n",
        "        image_path = os.path.join(image_folder, dataset.samples[index][0])\n",
        "        labeled_images.append((image_path, dataset.classes[dataset.samples[index][1]]))\n",
        "    \n",
        "    return labeled_images\n",
        "\n",
        "\n",
        "# Define function to train binary classification model on labeled images\n",
        "def train_model(labeled_images, device, num_epochs):\n",
        "    # Define the dataset\n",
        "    labeled_dataset = torchvision.datasets.ImageFolder(labeled_images, transform=transform)\n",
        "\n",
        "    # Define the dataloader\n",
        "    labeled_dataloader = torch.utils.data.DataLoader(labeled_dataset, batch_size=16, shuffle=True, num_workers=2)\n",
        "\n",
        "    # Load a pre-trained ResNet18 model\n",
        "    model = torchvision.models.resnet18(pretrained=True)\n",
        "    num_ftrs = model.fc.in_features\n",
        "    model.fc = nn.Linear(num_ftrs, 2)\n",
        "\n",
        "    # Move model to device\n",
        "    model.to(device)\n",
        "\n",
        "    # Define loss function and optimizer\n",
        "    criterion = nn.CrossEntropyLoss()\n",
        "    optimizer = torch.optim.SGD(model.parameters(), lr=0.001, momentum=0.9)\n",
        "\n",
        "    # Train the model\n",
        "    for epoch in range(num_epochs):\n",
        "        for images, labels in labeled_dataloader:\n",
        "            images, labels = images.to(device), labels.to(device)\n",
        "\n",
        "            optimizer.zero_grad()\n",
        "\n",
        "            outputs = model(images)\n",
        "            loss = criterion(outputs, labels)\n",
        "            loss.backward()\n",
        "            optimizer.step()\n",
        "\n",
        "    return model\n",
        "\n",
        "\n",
        "# Define function to score images\n",
        "def score_images(image_folder, model, device):\n",
        "    dataset = torchvision.datasets.ImageFolder(root=image_folder, transform=transform)\n",
        "    dataloader = torch.utils.data.DataLoader(dataset, batch_size=16, shuffle=False, num_workers=2)\n",
        "    \n",
        "    scores = []\n",
        "    for images, _ in dataloader:\n",
        "        with torch.no_grad():\n",
        "            outputs = torch.softmax(model(images.to(device)), dim=1)\n",
        "            scores.extend(list(outputs[:, 1].detach().cpu().numpy()))\n",
        "    \n",
        "    return\n"
      ],
      "metadata": {
        "id": "xEhshJrHrfY9"
      },
      "execution_count": 3,
      "outputs": []
    }
  ]
}